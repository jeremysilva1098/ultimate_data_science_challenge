{
 "cells": [
  {
   "cell_type": "markdown",
   "metadata": {},
   "source": [
    "# Part 3 ‐ Predictive modeling\n",
    "\n",
    "Ultimate is interested in predicting rider retention. To help explore this question, we have provided a sample dataset of a cohort of users who signed up for an Ultimate account in\n",
    "January 2014. The data was pulled several months later; we consider a user retained if they were “active” (i.e. took a trip) in the preceding 30 days.\n",
    "\n",
    "We would like you to use this data set to help understand what factors are the best predictors for retention, and offer suggestions to operationalize those insights to help Ultimate.\n",
    "The data is in the attached file ultimate_data_challenge.json. See below for a detailed description of the dataset. Please include any code you wrote for the analysis and delete the dataset when you have finished with the challenge.\n",
    "\n",
    "1. Perform any cleaning, exploratory analysis, and/or visualizations to use the provided data for this analysis (a few sentences/plots describing your approach will suffice). What fraction of the observed users were retained?\n",
    "\n",
    "2. Build a predictive model to help Ultimate determine whether or not a user will be active in their 6th month on the system. Discuss why you chose your approach, what alternatives you considered, and any concerns you have. How valid is your model? Include any key indicators of model performance.\n",
    "\n",
    "3. Briefly discuss how Ultimate might leverage the insights gained from the model to improve its long­term rider retention (again, a few sentences will suffice)."
   ]
  },
  {
   "cell_type": "code",
   "execution_count": 1,
   "metadata": {},
   "outputs": [],
   "source": [
    "import pandas as pd\n",
    "import numpy as np \n",
    "import matplotlib.pyplot as plt\n",
    "%matplotlib inline\n",
    "import seaborn as sns"
   ]
  },
  {
   "cell_type": "code",
   "execution_count": 2,
   "metadata": {},
   "outputs": [],
   "source": [
    "df= pd.read_json('ultimate_data_challenge.json')"
   ]
  },
  {
   "cell_type": "code",
   "execution_count": 3,
   "metadata": {},
   "outputs": [
    {
     "data": {
      "text/html": [
       "<div>\n",
       "<style scoped>\n",
       "    .dataframe tbody tr th:only-of-type {\n",
       "        vertical-align: middle;\n",
       "    }\n",
       "\n",
       "    .dataframe tbody tr th {\n",
       "        vertical-align: top;\n",
       "    }\n",
       "\n",
       "    .dataframe thead th {\n",
       "        text-align: right;\n",
       "    }\n",
       "</style>\n",
       "<table border=\"1\" class=\"dataframe\">\n",
       "  <thead>\n",
       "    <tr style=\"text-align: right;\">\n",
       "      <th></th>\n",
       "      <th>city</th>\n",
       "      <th>trips_in_first_30_days</th>\n",
       "      <th>signup_date</th>\n",
       "      <th>avg_rating_of_driver</th>\n",
       "      <th>avg_surge</th>\n",
       "      <th>last_trip_date</th>\n",
       "      <th>phone</th>\n",
       "      <th>surge_pct</th>\n",
       "      <th>ultimate_black_user</th>\n",
       "      <th>weekday_pct</th>\n",
       "      <th>avg_dist</th>\n",
       "      <th>avg_rating_by_driver</th>\n",
       "    </tr>\n",
       "  </thead>\n",
       "  <tbody>\n",
       "    <tr>\n",
       "      <th>0</th>\n",
       "      <td>King's Landing</td>\n",
       "      <td>4</td>\n",
       "      <td>2014-01-25</td>\n",
       "      <td>4.7</td>\n",
       "      <td>1.10</td>\n",
       "      <td>2014-06-17</td>\n",
       "      <td>iPhone</td>\n",
       "      <td>15.4</td>\n",
       "      <td>True</td>\n",
       "      <td>46.2</td>\n",
       "      <td>3.67</td>\n",
       "      <td>5.0</td>\n",
       "    </tr>\n",
       "    <tr>\n",
       "      <th>1</th>\n",
       "      <td>Astapor</td>\n",
       "      <td>0</td>\n",
       "      <td>2014-01-29</td>\n",
       "      <td>5.0</td>\n",
       "      <td>1.00</td>\n",
       "      <td>2014-05-05</td>\n",
       "      <td>Android</td>\n",
       "      <td>0.0</td>\n",
       "      <td>False</td>\n",
       "      <td>50.0</td>\n",
       "      <td>8.26</td>\n",
       "      <td>5.0</td>\n",
       "    </tr>\n",
       "    <tr>\n",
       "      <th>2</th>\n",
       "      <td>Astapor</td>\n",
       "      <td>3</td>\n",
       "      <td>2014-01-06</td>\n",
       "      <td>4.3</td>\n",
       "      <td>1.00</td>\n",
       "      <td>2014-01-07</td>\n",
       "      <td>iPhone</td>\n",
       "      <td>0.0</td>\n",
       "      <td>False</td>\n",
       "      <td>100.0</td>\n",
       "      <td>0.77</td>\n",
       "      <td>5.0</td>\n",
       "    </tr>\n",
       "    <tr>\n",
       "      <th>3</th>\n",
       "      <td>King's Landing</td>\n",
       "      <td>9</td>\n",
       "      <td>2014-01-10</td>\n",
       "      <td>4.6</td>\n",
       "      <td>1.14</td>\n",
       "      <td>2014-06-29</td>\n",
       "      <td>iPhone</td>\n",
       "      <td>20.0</td>\n",
       "      <td>True</td>\n",
       "      <td>80.0</td>\n",
       "      <td>2.36</td>\n",
       "      <td>4.9</td>\n",
       "    </tr>\n",
       "    <tr>\n",
       "      <th>4</th>\n",
       "      <td>Winterfell</td>\n",
       "      <td>14</td>\n",
       "      <td>2014-01-27</td>\n",
       "      <td>4.4</td>\n",
       "      <td>1.19</td>\n",
       "      <td>2014-03-15</td>\n",
       "      <td>Android</td>\n",
       "      <td>11.8</td>\n",
       "      <td>False</td>\n",
       "      <td>82.4</td>\n",
       "      <td>3.13</td>\n",
       "      <td>4.9</td>\n",
       "    </tr>\n",
       "  </tbody>\n",
       "</table>\n",
       "</div>"
      ],
      "text/plain": [
       "             city  trips_in_first_30_days signup_date  avg_rating_of_driver  \\\n",
       "0  King's Landing                       4  2014-01-25                   4.7   \n",
       "1         Astapor                       0  2014-01-29                   5.0   \n",
       "2         Astapor                       3  2014-01-06                   4.3   \n",
       "3  King's Landing                       9  2014-01-10                   4.6   \n",
       "4      Winterfell                      14  2014-01-27                   4.4   \n",
       "\n",
       "   avg_surge last_trip_date    phone  surge_pct  ultimate_black_user  \\\n",
       "0       1.10     2014-06-17   iPhone       15.4                 True   \n",
       "1       1.00     2014-05-05  Android        0.0                False   \n",
       "2       1.00     2014-01-07   iPhone        0.0                False   \n",
       "3       1.14     2014-06-29   iPhone       20.0                 True   \n",
       "4       1.19     2014-03-15  Android       11.8                False   \n",
       "\n",
       "   weekday_pct  avg_dist  avg_rating_by_driver  \n",
       "0         46.2      3.67                   5.0  \n",
       "1         50.0      8.26                   5.0  \n",
       "2        100.0      0.77                   5.0  \n",
       "3         80.0      2.36                   4.9  \n",
       "4         82.4      3.13                   4.9  "
      ]
     },
     "execution_count": 3,
     "metadata": {},
     "output_type": "execute_result"
    }
   ],
   "source": [
    "df.head()"
   ]
  },
  {
   "cell_type": "code",
   "execution_count": 4,
   "metadata": {},
   "outputs": [
    {
     "name": "stdout",
     "output_type": "stream",
     "text": [
      "<class 'pandas.core.frame.DataFrame'>\n",
      "RangeIndex: 50000 entries, 0 to 49999\n",
      "Data columns (total 12 columns):\n",
      " #   Column                  Non-Null Count  Dtype  \n",
      "---  ------                  --------------  -----  \n",
      " 0   city                    50000 non-null  object \n",
      " 1   trips_in_first_30_days  50000 non-null  int64  \n",
      " 2   signup_date             50000 non-null  object \n",
      " 3   avg_rating_of_driver    41878 non-null  float64\n",
      " 4   avg_surge               50000 non-null  float64\n",
      " 5   last_trip_date          50000 non-null  object \n",
      " 6   phone                   49604 non-null  object \n",
      " 7   surge_pct               50000 non-null  float64\n",
      " 8   ultimate_black_user     50000 non-null  bool   \n",
      " 9   weekday_pct             50000 non-null  float64\n",
      " 10  avg_dist                50000 non-null  float64\n",
      " 11  avg_rating_by_driver    49799 non-null  float64\n",
      "dtypes: bool(1), float64(6), int64(1), object(4)\n",
      "memory usage: 4.2+ MB\n"
     ]
    }
   ],
   "source": [
    "df.info()"
   ]
  },
  {
   "cell_type": "code",
   "execution_count": 5,
   "metadata": {},
   "outputs": [
    {
     "data": {
      "text/html": [
       "<div>\n",
       "<style scoped>\n",
       "    .dataframe tbody tr th:only-of-type {\n",
       "        vertical-align: middle;\n",
       "    }\n",
       "\n",
       "    .dataframe tbody tr th {\n",
       "        vertical-align: top;\n",
       "    }\n",
       "\n",
       "    .dataframe thead th {\n",
       "        text-align: right;\n",
       "    }\n",
       "</style>\n",
       "<table border=\"1\" class=\"dataframe\">\n",
       "  <thead>\n",
       "    <tr style=\"text-align: right;\">\n",
       "      <th></th>\n",
       "      <th>trips_in_first_30_days</th>\n",
       "      <th>avg_rating_of_driver</th>\n",
       "      <th>avg_surge</th>\n",
       "      <th>surge_pct</th>\n",
       "      <th>weekday_pct</th>\n",
       "      <th>avg_dist</th>\n",
       "      <th>avg_rating_by_driver</th>\n",
       "    </tr>\n",
       "  </thead>\n",
       "  <tbody>\n",
       "    <tr>\n",
       "      <th>count</th>\n",
       "      <td>50000.000000</td>\n",
       "      <td>41878.000000</td>\n",
       "      <td>50000.000000</td>\n",
       "      <td>50000.000000</td>\n",
       "      <td>50000.000000</td>\n",
       "      <td>50000.000000</td>\n",
       "      <td>49799.000000</td>\n",
       "    </tr>\n",
       "    <tr>\n",
       "      <th>mean</th>\n",
       "      <td>2.278200</td>\n",
       "      <td>4.601559</td>\n",
       "      <td>1.074764</td>\n",
       "      <td>8.849536</td>\n",
       "      <td>60.926084</td>\n",
       "      <td>5.796827</td>\n",
       "      <td>4.778158</td>\n",
       "    </tr>\n",
       "    <tr>\n",
       "      <th>std</th>\n",
       "      <td>3.792684</td>\n",
       "      <td>0.617338</td>\n",
       "      <td>0.222336</td>\n",
       "      <td>19.958811</td>\n",
       "      <td>37.081503</td>\n",
       "      <td>5.707357</td>\n",
       "      <td>0.446652</td>\n",
       "    </tr>\n",
       "    <tr>\n",
       "      <th>min</th>\n",
       "      <td>0.000000</td>\n",
       "      <td>1.000000</td>\n",
       "      <td>1.000000</td>\n",
       "      <td>0.000000</td>\n",
       "      <td>0.000000</td>\n",
       "      <td>0.000000</td>\n",
       "      <td>1.000000</td>\n",
       "    </tr>\n",
       "    <tr>\n",
       "      <th>25%</th>\n",
       "      <td>0.000000</td>\n",
       "      <td>4.300000</td>\n",
       "      <td>1.000000</td>\n",
       "      <td>0.000000</td>\n",
       "      <td>33.300000</td>\n",
       "      <td>2.420000</td>\n",
       "      <td>4.700000</td>\n",
       "    </tr>\n",
       "    <tr>\n",
       "      <th>50%</th>\n",
       "      <td>1.000000</td>\n",
       "      <td>4.900000</td>\n",
       "      <td>1.000000</td>\n",
       "      <td>0.000000</td>\n",
       "      <td>66.700000</td>\n",
       "      <td>3.880000</td>\n",
       "      <td>5.000000</td>\n",
       "    </tr>\n",
       "    <tr>\n",
       "      <th>75%</th>\n",
       "      <td>3.000000</td>\n",
       "      <td>5.000000</td>\n",
       "      <td>1.050000</td>\n",
       "      <td>8.600000</td>\n",
       "      <td>100.000000</td>\n",
       "      <td>6.940000</td>\n",
       "      <td>5.000000</td>\n",
       "    </tr>\n",
       "    <tr>\n",
       "      <th>max</th>\n",
       "      <td>125.000000</td>\n",
       "      <td>5.000000</td>\n",
       "      <td>8.000000</td>\n",
       "      <td>100.000000</td>\n",
       "      <td>100.000000</td>\n",
       "      <td>160.960000</td>\n",
       "      <td>5.000000</td>\n",
       "    </tr>\n",
       "  </tbody>\n",
       "</table>\n",
       "</div>"
      ],
      "text/plain": [
       "       trips_in_first_30_days  avg_rating_of_driver     avg_surge  \\\n",
       "count            50000.000000          41878.000000  50000.000000   \n",
       "mean                 2.278200              4.601559      1.074764   \n",
       "std                  3.792684              0.617338      0.222336   \n",
       "min                  0.000000              1.000000      1.000000   \n",
       "25%                  0.000000              4.300000      1.000000   \n",
       "50%                  1.000000              4.900000      1.000000   \n",
       "75%                  3.000000              5.000000      1.050000   \n",
       "max                125.000000              5.000000      8.000000   \n",
       "\n",
       "          surge_pct   weekday_pct      avg_dist  avg_rating_by_driver  \n",
       "count  50000.000000  50000.000000  50000.000000          49799.000000  \n",
       "mean       8.849536     60.926084      5.796827              4.778158  \n",
       "std       19.958811     37.081503      5.707357              0.446652  \n",
       "min        0.000000      0.000000      0.000000              1.000000  \n",
       "25%        0.000000     33.300000      2.420000              4.700000  \n",
       "50%        0.000000     66.700000      3.880000              5.000000  \n",
       "75%        8.600000    100.000000      6.940000              5.000000  \n",
       "max      100.000000    100.000000    160.960000              5.000000  "
      ]
     },
     "execution_count": 5,
     "metadata": {},
     "output_type": "execute_result"
    }
   ],
   "source": [
    "df.describe()"
   ]
  },
  {
   "cell_type": "markdown",
   "metadata": {},
   "source": [
    "# Exploratory Data Analysis"
   ]
  },
  {
   "cell_type": "markdown",
   "metadata": {},
   "source": [
    "### How many cities are in our dataset and how many users per city?"
   ]
  },
  {
   "cell_type": "code",
   "execution_count": 6,
   "metadata": {},
   "outputs": [
    {
     "name": "stdout",
     "output_type": "stream",
     "text": [
      "The cities in our dataset are [\"King's Landing\", 'Astapor', 'Winterfell']\n"
     ]
    }
   ],
   "source": [
    "cities= list(df.city.unique())\n",
    "print('The cities in our dataset are {}'.format(cities))"
   ]
  },
  {
   "cell_type": "code",
   "execution_count": 7,
   "metadata": {},
   "outputs": [
    {
     "data": {
      "text/plain": [
       "Text(0, 0.5, 'Number of Drivers')"
      ]
     },
     "execution_count": 7,
     "metadata": {},
     "output_type": "execute_result"
    },
    {
     "data": {
      "image/png": "[encoded data removed]",
      "text/plain": [
       "<Figure size 432x288 with 1 Axes>"
      ]
     },
     "metadata": {
      "needs_background": "light"
     },
     "output_type": "display_data"
    }
   ],
   "source": [
    "# Make df of drivers per city\n",
    "city_counts= pd.DataFrame(df.city.value_counts()).reset_index()\n",
    "city_counts.rename(columns= {'index': \"City\", \"city\": \"Num Drivers\"}, inplace= True)\n",
    "# Plot bar chart of drivers per city\n",
    "plt.bar(x= city_counts.City, height= city_counts['Num Drivers'])\n",
    "plt.title('Drivers per City')\n",
    "plt.xlabel('City')\n",
    "plt.ylabel('Number of Drivers')"
   ]
  },
  {
   "cell_type": "markdown",
   "metadata": {},
   "source": [
    "### Distribution of Trips in First 30 days"
   ]
  },
  {
   "cell_type": "code",
   "execution_count": 8,
   "metadata": {},
   "outputs": [
    {
     "data": {
      "text/plain": [
       "Text(0.5, 1.0, 'Distribution of Trips in First 30 Days')"
      ]
     },
     "execution_count": 8,
     "metadata": {},
     "output_type": "execute_result"
    },
    {
     "data": {
      "image/png": "[encoded data removed]",
      "text/plain": [
       "<Figure size 432x288 with 1 Axes>"
      ]
     },
     "metadata": {
      "needs_background": "light"
     },
     "output_type": "display_data"
    }
   ],
   "source": [
    "sns.distplot(df.trips_in_first_30_days)\n",
    "plt.title('Distribution of Trips in First 30 Days')"
   ]
  },
  {
   "cell_type": "markdown",
   "metadata": {},
   "source": [
    "### Earliest and Latest Signup Date"
   ]
  },
  {
   "cell_type": "code",
   "execution_count": 9,
   "metadata": {},
   "outputs": [
    {
     "name": "stdout",
     "output_type": "stream",
     "text": [
      "Our earliest signup date is 2014-01-01 and our most recent sign up date is 2014-01-31\n"
     ]
    }
   ],
   "source": [
    "earliest= df.signup_date.min()\n",
    "latest= df.signup_date.max()\n",
    "print('Our earliest signup date is {} and our most recent sign up date is {}'.format(earliest, latest))"
   ]
  },
  {
   "cell_type": "markdown",
   "metadata": {},
   "source": [
    "### Distribution of Driver Ratings"
   ]
  },
  {
   "cell_type": "code",
   "execution_count": 10,
   "metadata": {},
   "outputs": [
    {
     "data": {
      "image/png": "[encoded data removed]",
      "text/plain": [
       "<Figure size 432x288 with 1 Axes>"
      ]
     },
     "metadata": {
      "needs_background": "light"
     },
     "output_type": "display_data"
    },
    {
     "data": {
      "image/png": "[encoded data removed]",
      "text/plain": [
       "<Figure size 432x288 with 1 Axes>"
      ]
     },
     "metadata": {
      "needs_background": "light"
     },
     "output_type": "display_data"
    }
   ],
   "source": [
    "sns.distplot(df.avg_rating_of_driver)\n",
    "plt.title('Avg rating of Driver')\n",
    "plt.show()\n",
    "sns.distplot(df.avg_rating_by_driver)\n",
    "plt.title('Avg rating by Driver')\n",
    "plt.show()"
   ]
  },
  {
   "cell_type": "markdown",
   "metadata": {},
   "source": [
    "### How many Ultimate Black Users do we have? "
   ]
  },
  {
   "cell_type": "code",
   "execution_count": 11,
   "metadata": {},
   "outputs": [
    {
     "name": "stdout",
     "output_type": "stream",
     "text": [
      "37.71 % of our drivers are Ultimate Black Members.\n"
     ]
    }
   ],
   "source": [
    "ultimate_blacks= df.ultimate_black_user.value_counts()[1]\n",
    "print('{} % of our drivers are Ultimate Black Members.'.format(round(ultimate_blacks/len(df) * 100, 2)))"
   ]
  },
  {
   "cell_type": "markdown",
   "metadata": {},
   "source": [
    "### What is our distrubution look like for Avg Distance? "
   ]
  },
  {
   "cell_type": "code",
   "execution_count": 12,
   "metadata": {},
   "outputs": [
    {
     "data": {
      "text/plain": [
       "Text(0.5, 1.0, 'Distribution of Average Trip Distance')"
      ]
     },
     "execution_count": 12,
     "metadata": {},
     "output_type": "execute_result"
    },
    {
     "data": {
      "image/png": "[encoded data removed]",
      "text/plain": [
       "<Figure size 432x288 with 1 Axes>"
      ]
     },
     "metadata": {
      "needs_background": "light"
     },
     "output_type": "display_data"
    }
   ],
   "source": [
    "sns.distplot(df.avg_dist)\n",
    "plt.title('Distribution of Average Trip Distance')"
   ]
  },
  {
   "cell_type": "markdown",
   "metadata": {},
   "source": [
    "# Preparing Data For Modeling"
   ]
  },
  {
   "cell_type": "markdown",
   "metadata": {},
   "source": [
    "## Dealing with Null Values"
   ]
  },
  {
   "cell_type": "code",
   "execution_count": 13,
   "metadata": {},
   "outputs": [
    {
     "data": {
      "text/plain": [
       "city                         0\n",
       "trips_in_first_30_days       0\n",
       "signup_date                  0\n",
       "avg_rating_of_driver      8122\n",
       "avg_surge                    0\n",
       "last_trip_date               0\n",
       "phone                      396\n",
       "surge_pct                    0\n",
       "ultimate_black_user          0\n",
       "weekday_pct                  0\n",
       "avg_dist                     0\n",
       "avg_rating_by_driver       201\n",
       "dtype: int64"
      ]
     },
     "execution_count": 13,
     "metadata": {},
     "output_type": "execute_result"
    }
   ],
   "source": [
    "# Check where we have null values\n",
    "df.isnull().sum()"
   ]
  },
  {
   "cell_type": "markdown",
   "metadata": {},
   "source": [
    "We have signifant null values in both the driver rating columns.\n",
    "\n",
    "For each of those columns we will replace null values the median for that column. "
   ]
  },
  {
   "cell_type": "code",
   "execution_count": 14,
   "metadata": {},
   "outputs": [],
   "source": [
    "df.avg_rating_of_driver.fillna(value= df.avg_rating_of_driver.median(), inplace=True)"
   ]
  },
  {
   "cell_type": "code",
   "execution_count": 15,
   "metadata": {},
   "outputs": [],
   "source": [
    "df.avg_rating_by_driver.fillna(value=df.avg_rating_by_driver.median(),  inplace= True)"
   ]
  },
  {
   "cell_type": "markdown",
   "metadata": {},
   "source": [
    "Phone number also has a number of missing values.\n",
    "\n",
    "For those we will just fill with the previous phone type"
   ]
  },
  {
   "cell_type": "code",
   "execution_count": 16,
   "metadata": {},
   "outputs": [],
   "source": [
    "df.phone.fillna(method='bfill', inplace= True)"
   ]
  },
  {
   "cell_type": "code",
   "execution_count": 17,
   "metadata": {},
   "outputs": [
    {
     "data": {
      "text/plain": [
       "city                      0\n",
       "trips_in_first_30_days    0\n",
       "signup_date               0\n",
       "avg_rating_of_driver      0\n",
       "avg_surge                 0\n",
       "last_trip_date            0\n",
       "phone                     0\n",
       "surge_pct                 0\n",
       "ultimate_black_user       0\n",
       "weekday_pct               0\n",
       "avg_dist                  0\n",
       "avg_rating_by_driver      0\n",
       "dtype: int64"
      ]
     },
     "execution_count": 17,
     "metadata": {},
     "output_type": "execute_result"
    }
   ],
   "source": [
    "# Recheck the null values\n",
    "df.isnull().sum()"
   ]
  },
  {
   "cell_type": "markdown",
   "metadata": {},
   "source": [
    "## Creating an 'Active' column\n",
    "\n",
    "Column will be binary\n",
    "\n",
    "0: user was active in the last 30 days\n",
    "\n",
    "1: user was not active in the last 30 days"
   ]
  },
  {
   "cell_type": "code",
   "execution_count": 18,
   "metadata": {},
   "outputs": [
    {
     "name": "stdout",
     "output_type": "stream",
     "text": [
      "The most recent trip in the dataset occured on 2014-07-01\n"
     ]
    }
   ],
   "source": [
    "most_recent= df.last_trip_date.max()\n",
    "print('The most recent trip in the dataset occured on {}'.format(most_recent))"
   ]
  },
  {
   "cell_type": "markdown",
   "metadata": {},
   "source": [
    "Therefore is a driver's last_trip_date is after or on 2014-06-01 they will be labeled inactive. A 'Active' value of 1\n",
    "\n",
    "If a driver's last_trip_date is before 2014-06-01 they will be labeled active. A 'Active' value of 0"
   ]
  },
  {
   "cell_type": "code",
   "execution_count": 19,
   "metadata": {},
   "outputs": [],
   "source": [
    "# If customer is Active give them True values. If Not Active give them False value\n",
    "df['Active']= df['last_trip_date'] >= '2014-06-01'  "
   ]
  },
  {
   "cell_type": "code",
   "execution_count": 20,
   "metadata": {},
   "outputs": [
    {
     "data": {
      "text/html": [
       "<div>\n",
       "<style scoped>\n",
       "    .dataframe tbody tr th:only-of-type {\n",
       "        vertical-align: middle;\n",
       "    }\n",
       "\n",
       "    .dataframe tbody tr th {\n",
       "        vertical-align: top;\n",
       "    }\n",
       "\n",
       "    .dataframe thead th {\n",
       "        text-align: right;\n",
       "    }\n",
       "</style>\n",
       "<table border=\"1\" class=\"dataframe\">\n",
       "  <thead>\n",
       "    <tr style=\"text-align: right;\">\n",
       "      <th></th>\n",
       "      <th>city</th>\n",
       "      <th>trips_in_first_30_days</th>\n",
       "      <th>signup_date</th>\n",
       "      <th>avg_rating_of_driver</th>\n",
       "      <th>avg_surge</th>\n",
       "      <th>last_trip_date</th>\n",
       "      <th>phone</th>\n",
       "      <th>surge_pct</th>\n",
       "      <th>ultimate_black_user</th>\n",
       "      <th>weekday_pct</th>\n",
       "      <th>avg_dist</th>\n",
       "      <th>avg_rating_by_driver</th>\n",
       "      <th>Active</th>\n",
       "    </tr>\n",
       "  </thead>\n",
       "  <tbody>\n",
       "    <tr>\n",
       "      <th>0</th>\n",
       "      <td>King's Landing</td>\n",
       "      <td>4</td>\n",
       "      <td>2014-01-25</td>\n",
       "      <td>4.7</td>\n",
       "      <td>1.10</td>\n",
       "      <td>2014-06-17</td>\n",
       "      <td>iPhone</td>\n",
       "      <td>15.4</td>\n",
       "      <td>True</td>\n",
       "      <td>46.2</td>\n",
       "      <td>3.67</td>\n",
       "      <td>5.0</td>\n",
       "      <td>0</td>\n",
       "    </tr>\n",
       "    <tr>\n",
       "      <th>1</th>\n",
       "      <td>Astapor</td>\n",
       "      <td>0</td>\n",
       "      <td>2014-01-29</td>\n",
       "      <td>5.0</td>\n",
       "      <td>1.00</td>\n",
       "      <td>2014-05-05</td>\n",
       "      <td>Android</td>\n",
       "      <td>0.0</td>\n",
       "      <td>False</td>\n",
       "      <td>50.0</td>\n",
       "      <td>8.26</td>\n",
       "      <td>5.0</td>\n",
       "      <td>1</td>\n",
       "    </tr>\n",
       "    <tr>\n",
       "      <th>2</th>\n",
       "      <td>Astapor</td>\n",
       "      <td>3</td>\n",
       "      <td>2014-01-06</td>\n",
       "      <td>4.3</td>\n",
       "      <td>1.00</td>\n",
       "      <td>2014-01-07</td>\n",
       "      <td>iPhone</td>\n",
       "      <td>0.0</td>\n",
       "      <td>False</td>\n",
       "      <td>100.0</td>\n",
       "      <td>0.77</td>\n",
       "      <td>5.0</td>\n",
       "      <td>1</td>\n",
       "    </tr>\n",
       "    <tr>\n",
       "      <th>3</th>\n",
       "      <td>King's Landing</td>\n",
       "      <td>9</td>\n",
       "      <td>2014-01-10</td>\n",
       "      <td>4.6</td>\n",
       "      <td>1.14</td>\n",
       "      <td>2014-06-29</td>\n",
       "      <td>iPhone</td>\n",
       "      <td>20.0</td>\n",
       "      <td>True</td>\n",
       "      <td>80.0</td>\n",
       "      <td>2.36</td>\n",
       "      <td>4.9</td>\n",
       "      <td>0</td>\n",
       "    </tr>\n",
       "    <tr>\n",
       "      <th>4</th>\n",
       "      <td>Winterfell</td>\n",
       "      <td>14</td>\n",
       "      <td>2014-01-27</td>\n",
       "      <td>4.4</td>\n",
       "      <td>1.19</td>\n",
       "      <td>2014-03-15</td>\n",
       "      <td>Android</td>\n",
       "      <td>11.8</td>\n",
       "      <td>False</td>\n",
       "      <td>82.4</td>\n",
       "      <td>3.13</td>\n",
       "      <td>4.9</td>\n",
       "      <td>1</td>\n",
       "    </tr>\n",
       "  </tbody>\n",
       "</table>\n",
       "</div>"
      ],
      "text/plain": [
       "             city  trips_in_first_30_days signup_date  avg_rating_of_driver  \\\n",
       "0  King's Landing                       4  2014-01-25                   4.7   \n",
       "1         Astapor                       0  2014-01-29                   5.0   \n",
       "2         Astapor                       3  2014-01-06                   4.3   \n",
       "3  King's Landing                       9  2014-01-10                   4.6   \n",
       "4      Winterfell                      14  2014-01-27                   4.4   \n",
       "\n",
       "   avg_surge last_trip_date    phone  surge_pct  ultimate_black_user  \\\n",
       "0       1.10     2014-06-17   iPhone       15.4                 True   \n",
       "1       1.00     2014-05-05  Android        0.0                False   \n",
       "2       1.00     2014-01-07   iPhone        0.0                False   \n",
       "3       1.14     2014-06-29   iPhone       20.0                 True   \n",
       "4       1.19     2014-03-15  Android       11.8                False   \n",
       "\n",
       "   weekday_pct  avg_dist  avg_rating_by_driver  Active  \n",
       "0         46.2      3.67                   5.0       0  \n",
       "1         50.0      8.26                   5.0       1  \n",
       "2        100.0      0.77                   5.0       1  \n",
       "3         80.0      2.36                   4.9       0  \n",
       "4         82.4      3.13                   4.9       1  "
      ]
     },
     "execution_count": 20,
     "metadata": {},
     "output_type": "execute_result"
    }
   ],
   "source": [
    "# If a driver is Active (True) assign them a 0, if a driver is Not Active (False) assign them a 1\n",
    "binary= []\n",
    "for driver in df.Active:\n",
    "    if driver is True:\n",
    "        binary.append(0)\n",
    "    elif driver is False:\n",
    "        binary.append(1)\n",
    "\n",
    "df['Active']= binary\n",
    "df.head()"
   ]
  },
  {
   "cell_type": "code",
   "execution_count": 21,
   "metadata": {},
   "outputs": [
    {
     "data": {
      "text/plain": [
       "1    31196\n",
       "0    18804\n",
       "Name: Active, dtype: int64"
      ]
     },
     "execution_count": 21,
     "metadata": {},
     "output_type": "execute_result"
    }
   ],
   "source": [
    "df.Active.value_counts()"
   ]
  },
  {
   "cell_type": "code",
   "execution_count": 22,
   "metadata": {},
   "outputs": [
    {
     "name": "stdout",
     "output_type": "stream",
     "text": [
      "Percent of Drivers Retained: 37.61%\n",
      "Precent of Drivers Not Retained: 62.39%\n"
     ]
    }
   ],
   "source": [
    "active_count= len(df[df.Active == 0])\n",
    "inactive_count= len(df[df.Active == 1])\n",
    "print('Percent of Drivers Retained: {}%'.format(round(active_count/len(df) * 100,2)))\n",
    "print('Precent of Drivers Not Retained: {}%'.format(round(inactive_count/len(df) * 100, 2)))"
   ]
  },
  {
   "cell_type": "markdown",
   "metadata": {},
   "source": [
    "# Building a Model to Predict Retention"
   ]
  },
  {
   "cell_type": "code",
   "execution_count": 23,
   "metadata": {},
   "outputs": [],
   "source": [
    "from sklearn.model_selection import train_test_split\n",
    "from sklearn.linear_model import LogisticRegression\n",
    "from sklearn.ensemble import RandomForestClassifier, GradientBoostingClassifier\n",
    "from sklearn.metrics import classification_report\n",
    "from sklearn.metrics import accuracy_score"
   ]
  },
  {
   "cell_type": "markdown",
   "metadata": {},
   "source": [
    "## Logsitic Regression and Support Vector Machine"
   ]
  },
  {
   "cell_type": "code",
   "execution_count": 24,
   "metadata": {},
   "outputs": [
    {
     "data": {
      "text/plain": [
       "city                       object\n",
       "trips_in_first_30_days      int64\n",
       "signup_date                object\n",
       "avg_rating_of_driver      float64\n",
       "avg_surge                 float64\n",
       "last_trip_date             object\n",
       "phone                      object\n",
       "surge_pct                 float64\n",
       "ultimate_black_user          bool\n",
       "weekday_pct               float64\n",
       "avg_dist                  float64\n",
       "avg_rating_by_driver      float64\n",
       "Active                      int64\n",
       "dtype: object"
      ]
     },
     "execution_count": 24,
     "metadata": {},
     "output_type": "execute_result"
    }
   ],
   "source": [
    "# We need to deal with non-numeric data\n",
    "# What our our data types? \n",
    "df.dtypes"
   ]
  },
  {
   "cell_type": "markdown",
   "metadata": {},
   "source": [
    "#### Plan for Categorical Variables\n",
    "\n",
    "city: Get Dummies\n",
    "\n",
    "signup_date: We won't use this column because all signups are coming from the same months\n",
    "\n",
    "last_trip_date: We won't use this column because it leak info regarding our target variabes of \n",
    "\n",
    "phone: We won't use this column because it shouldn't give us much info and there is no reasonable way to convert it to an informative numeric variables\n",
    "\n",
    "ultimate_black_user: Get dummies\n"
   ]
  },
  {
   "cell_type": "code",
   "execution_count": 25,
   "metadata": {},
   "outputs": [
    {
     "data": {
      "text/html": [
       "<div>\n",
       "<style scoped>\n",
       "    .dataframe tbody tr th:only-of-type {\n",
       "        vertical-align: middle;\n",
       "    }\n",
       "\n",
       "    .dataframe tbody tr th {\n",
       "        vertical-align: top;\n",
       "    }\n",
       "\n",
       "    .dataframe thead th {\n",
       "        text-align: right;\n",
       "    }\n",
       "</style>\n",
       "<table border=\"1\" class=\"dataframe\">\n",
       "  <thead>\n",
       "    <tr style=\"text-align: right;\">\n",
       "      <th></th>\n",
       "      <th>trips_in_first_30_days</th>\n",
       "      <th>avg_rating_of_driver</th>\n",
       "      <th>avg_surge</th>\n",
       "      <th>surge_pct</th>\n",
       "      <th>weekday_pct</th>\n",
       "      <th>avg_dist</th>\n",
       "      <th>avg_rating_by_driver</th>\n",
       "      <th>Active</th>\n",
       "      <th>city_Astapor</th>\n",
       "      <th>city_King's Landing</th>\n",
       "      <th>city_Winterfell</th>\n",
       "      <th>ultimate_black_user_False</th>\n",
       "      <th>ultimate_black_user_True</th>\n",
       "    </tr>\n",
       "  </thead>\n",
       "  <tbody>\n",
       "    <tr>\n",
       "      <th>0</th>\n",
       "      <td>4</td>\n",
       "      <td>4.7</td>\n",
       "      <td>1.10</td>\n",
       "      <td>15.4</td>\n",
       "      <td>46.2</td>\n",
       "      <td>3.67</td>\n",
       "      <td>5.0</td>\n",
       "      <td>0</td>\n",
       "      <td>0</td>\n",
       "      <td>1</td>\n",
       "      <td>0</td>\n",
       "      <td>0</td>\n",
       "      <td>1</td>\n",
       "    </tr>\n",
       "    <tr>\n",
       "      <th>1</th>\n",
       "      <td>0</td>\n",
       "      <td>5.0</td>\n",
       "      <td>1.00</td>\n",
       "      <td>0.0</td>\n",
       "      <td>50.0</td>\n",
       "      <td>8.26</td>\n",
       "      <td>5.0</td>\n",
       "      <td>1</td>\n",
       "      <td>1</td>\n",
       "      <td>0</td>\n",
       "      <td>0</td>\n",
       "      <td>1</td>\n",
       "      <td>0</td>\n",
       "    </tr>\n",
       "    <tr>\n",
       "      <th>2</th>\n",
       "      <td>3</td>\n",
       "      <td>4.3</td>\n",
       "      <td>1.00</td>\n",
       "      <td>0.0</td>\n",
       "      <td>100.0</td>\n",
       "      <td>0.77</td>\n",
       "      <td>5.0</td>\n",
       "      <td>1</td>\n",
       "      <td>1</td>\n",
       "      <td>0</td>\n",
       "      <td>0</td>\n",
       "      <td>1</td>\n",
       "      <td>0</td>\n",
       "    </tr>\n",
       "    <tr>\n",
       "      <th>3</th>\n",
       "      <td>9</td>\n",
       "      <td>4.6</td>\n",
       "      <td>1.14</td>\n",
       "      <td>20.0</td>\n",
       "      <td>80.0</td>\n",
       "      <td>2.36</td>\n",
       "      <td>4.9</td>\n",
       "      <td>0</td>\n",
       "      <td>0</td>\n",
       "      <td>1</td>\n",
       "      <td>0</td>\n",
       "      <td>0</td>\n",
       "      <td>1</td>\n",
       "    </tr>\n",
       "    <tr>\n",
       "      <th>4</th>\n",
       "      <td>14</td>\n",
       "      <td>4.4</td>\n",
       "      <td>1.19</td>\n",
       "      <td>11.8</td>\n",
       "      <td>82.4</td>\n",
       "      <td>3.13</td>\n",
       "      <td>4.9</td>\n",
       "      <td>1</td>\n",
       "      <td>0</td>\n",
       "      <td>0</td>\n",
       "      <td>1</td>\n",
       "      <td>1</td>\n",
       "      <td>0</td>\n",
       "    </tr>\n",
       "  </tbody>\n",
       "</table>\n",
       "</div>"
      ],
      "text/plain": [
       "   trips_in_first_30_days  avg_rating_of_driver  avg_surge  surge_pct  \\\n",
       "0                       4                   4.7       1.10       15.4   \n",
       "1                       0                   5.0       1.00        0.0   \n",
       "2                       3                   4.3       1.00        0.0   \n",
       "3                       9                   4.6       1.14       20.0   \n",
       "4                      14                   4.4       1.19       11.8   \n",
       "\n",
       "   weekday_pct  avg_dist  avg_rating_by_driver  Active  city_Astapor  \\\n",
       "0         46.2      3.67                   5.0       0             0   \n",
       "1         50.0      8.26                   5.0       1             1   \n",
       "2        100.0      0.77                   5.0       1             1   \n",
       "3         80.0      2.36                   4.9       0             0   \n",
       "4         82.4      3.13                   4.9       1             0   \n",
       "\n",
       "   city_King's Landing  city_Winterfell  ultimate_black_user_False  \\\n",
       "0                    1                0                          0   \n",
       "1                    0                0                          1   \n",
       "2                    0                0                          1   \n",
       "3                    1                0                          0   \n",
       "4                    0                1                          1   \n",
       "\n",
       "   ultimate_black_user_True  \n",
       "0                         1  \n",
       "1                         0  \n",
       "2                         0  \n",
       "3                         1  \n",
       "4                         0  "
      ]
     },
     "execution_count": 25,
     "metadata": {},
     "output_type": "execute_result"
    }
   ],
   "source": [
    "# Make a copy of the dataframe \n",
    "df_numeric= df.copy()\n",
    "# Drop columns we discussed above\n",
    "df_numeric.drop(columns=['signup_date', 'last_trip_date', 'phone'], inplace=True)\n",
    "\n",
    "# get dummies for city and ultimate_black\n",
    "df_numeric= pd.get_dummies(data=df_numeric, columns= ['city', 'ultimate_black_user'])\n",
    "df_numeric.head()"
   ]
  },
  {
   "cell_type": "code",
   "execution_count": 26,
   "metadata": {},
   "outputs": [
    {
     "data": {
      "text/plain": [
       "trips_in_first_30_days         int64\n",
       "avg_rating_of_driver         float64\n",
       "avg_surge                    float64\n",
       "surge_pct                    float64\n",
       "weekday_pct                  float64\n",
       "avg_dist                     float64\n",
       "avg_rating_by_driver         float64\n",
       "Active                         int64\n",
       "city_Astapor                   uint8\n",
       "city_King's Landing            uint8\n",
       "city_Winterfell                uint8\n",
       "ultimate_black_user_False      uint8\n",
       "ultimate_black_user_True       uint8\n",
       "dtype: object"
      ]
     },
     "execution_count": 26,
     "metadata": {},
     "output_type": "execute_result"
    }
   ],
   "source": [
    "# Recheck Data Types\n",
    "df_numeric.dtypes"
   ]
  },
  {
   "cell_type": "markdown",
   "metadata": {},
   "source": [
    "#### Logstic Regression Model"
   ]
  },
  {
   "cell_type": "code",
   "execution_count": 27,
   "metadata": {},
   "outputs": [
    {
     "name": "stdout",
     "output_type": "stream",
     "text": [
      "(35000, 12)\n",
      "(35000,)\n",
      "(15000, 12)\n",
      "(15000,)\n",
      "/n\n",
      "Our input variables are Index(['trips_in_first_30_days', 'avg_rating_of_driver', 'avg_surge',\n",
      "       'surge_pct', 'weekday_pct', 'avg_dist', 'avg_rating_by_driver',\n",
      "       'city_Astapor', 'city_King's Landing', 'city_Winterfell',\n",
      "       'ultimate_black_user_False', 'ultimate_black_user_True'],\n",
      "      dtype='object')\n"
     ]
    }
   ],
   "source": [
    "from sklearn.preprocessing import StandardScaler\n",
    "# Create input variables\n",
    "X= df_numeric.drop(columns='Active')\n",
    "# Set target variable to be retention column\n",
    "y= df_numeric.Active\n",
    "\n",
    "# Split into training and test while maintaining class frequencies\n",
    "x_train, x_test, y_train, y_test= train_test_split(X, y, test_size= 0.3, stratify= y)\n",
    "\n",
    "# Scale X\n",
    "scaler= StandardScaler()\n",
    "x_train_scaled= scaler.fit_transform(x_train)\n",
    "x_test_scaled= scaler.fit_transform(x_test)\n",
    "\n",
    "# Make sure vectors are of proper shape\n",
    "print(x_train_scaled.shape)\n",
    "print(y_train.shape)\n",
    "print(x_test_scaled.shape)\n",
    "print(y_test.shape)\n",
    "print('/n')\n",
    "\n",
    "print('Our input variables are {}'.format(X.columns))\n"
   ]
  },
  {
   "cell_type": "markdown",
   "metadata": {},
   "source": [
    "### Logistic Regression"
   ]
  },
  {
   "cell_type": "code",
   "execution_count": 28,
   "metadata": {},
   "outputs": [
    {
     "name": "stdout",
     "output_type": "stream",
     "text": [
      "Logistic Regression Accuracy Score: 0.7\n",
      "\n",
      "\n",
      "Classification Report for Logistic Regression Model\n",
      "              precision    recall  f1-score   support\n",
      "\n",
      "           0       0.66      0.43      0.52      5641\n",
      "           1       0.72      0.87      0.79      9359\n",
      "\n",
      "    accuracy                           0.70     15000\n",
      "   macro avg       0.69      0.65      0.65     15000\n",
      "weighted avg       0.70      0.70      0.69     15000\n",
      "\n"
     ]
    }
   ],
   "source": [
    "model_name= 'Logistic Regression'\n",
    "model= LogisticRegression()\n",
    "# fit the model\n",
    "result= model.fit(x_train_scaled, y_train)\n",
    "# make predictions\n",
    "y_pred= model.predict(x_test_scaled)\n",
    "\n",
    "# computer average score\n",
    "avg_score= round(accuracy_score(y_test, y_pred),2)\n",
    "print('{} Accuracy Score: {}'.format(model_name,avg_score))\n",
    "print('\\n')\n",
    "\n",
    "# compute classification report\n",
    "report= classification_report(y_test, y_pred)\n",
    "print('Classification Report for {} Model'.format(model_name))\n",
    "print(report)"
   ]
  },
  {
   "cell_type": "markdown",
   "metadata": {},
   "source": [
    "### SVM Models"
   ]
  },
  {
   "cell_type": "code",
   "execution_count": 29,
   "metadata": {},
   "outputs": [
    {
     "name": "stdout",
     "output_type": "stream",
     "text": [
      "SVC Accuracy Score: 0.76\n",
      "\n",
      "\n",
      "Classification Report for SVC Model\n",
      "              precision    recall  f1-score   support\n",
      "\n",
      "           0       0.73      0.57      0.64      5641\n",
      "           1       0.77      0.87      0.82      9359\n",
      "\n",
      "    accuracy                           0.76     15000\n",
      "   macro avg       0.75      0.72      0.73     15000\n",
      "weighted avg       0.75      0.76      0.75     15000\n",
      "\n",
      "NuSVC Accuracy Score: 0.76\n",
      "\n",
      "\n",
      "Classification Report for NuSVC Model\n",
      "              precision    recall  f1-score   support\n",
      "\n",
      "           0       0.72      0.58      0.64      5641\n",
      "           1       0.77      0.86      0.81      9359\n",
      "\n",
      "    accuracy                           0.76     15000\n",
      "   macro avg       0.74      0.72      0.73     15000\n",
      "weighted avg       0.75      0.76      0.75     15000\n",
      "\n",
      "LinearSVC Accuracy Score: 0.7\n",
      "\n",
      "\n",
      "Classification Report for LinearSVC Model\n",
      "              precision    recall  f1-score   support\n",
      "\n",
      "           0       0.67      0.42      0.52      5641\n",
      "           1       0.71      0.87      0.79      9359\n",
      "\n",
      "    accuracy                           0.70     15000\n",
      "   macro avg       0.69      0.65      0.65     15000\n",
      "weighted avg       0.70      0.70      0.68     15000\n",
      "\n"
     ]
    },
    {
     "name": "stderr",
     "output_type": "stream",
     "text": [
      "/opt/anaconda3/lib/python3.8/site-packages/sklearn/svm/_base.py:976: ConvergenceWarning: Liblinear failed to converge, increase the number of iterations.\n",
      "  warnings.warn(\"Liblinear failed to converge, increase \"\n"
     ]
    }
   ],
   "source": [
    "from sklearn import svm\n",
    "svm_models= [svm.SVC(), svm.NuSVC(), svm.LinearSVC()]\n",
    "\n",
    "for model in svm_models:\n",
    "    model_name= str(model)[:-2]\n",
    "    model= model\n",
    "    # fit the model\n",
    "    result= model.fit(x_train_scaled, y_train)\n",
    "    # make predictions\n",
    "    y_pred= model.predict(x_test_scaled)\n",
    "\n",
    "    # computer average score\n",
    "    avg_score= round(accuracy_score(y_test, y_pred),2)\n",
    "    print('{} Accuracy Score: {}'.format(model_name,avg_score))\n",
    "    print('\\n')\n",
    "\n",
    "    # compute classification report\n",
    "    report= classification_report(y_test, y_pred)\n",
    "    print('Classification Report for {} Model'.format(model_name))\n",
    "    print(report)\n",
    "    "
   ]
  },
  {
   "cell_type": "markdown",
   "metadata": {},
   "source": [
    "## Tree Models"
   ]
  },
  {
   "cell_type": "code",
   "execution_count": 30,
   "metadata": {},
   "outputs": [
    {
     "name": "stdout",
     "output_type": "stream",
     "text": [
      "RandomForestClassifier Accuracy Score: 0.74\n",
      "\n",
      "\n",
      "Classification Report for RandomForestClassifier Model\n",
      "              precision    recall  f1-score   support\n",
      "\n",
      "           0       0.66      0.65      0.66      5641\n",
      "           1       0.79      0.80      0.80      9359\n",
      "\n",
      "    accuracy                           0.74     15000\n",
      "   macro avg       0.73      0.72      0.73     15000\n",
      "weighted avg       0.74      0.74      0.74     15000\n",
      "\n",
      "GradientBoostingClassifier Accuracy Score: 0.78\n",
      "\n",
      "\n",
      "Classification Report for GradientBoostingClassifier Model\n",
      "              precision    recall  f1-score   support\n",
      "\n",
      "           0       0.74      0.62      0.68      5641\n",
      "           1       0.79      0.87      0.83      9359\n",
      "\n",
      "    accuracy                           0.78     15000\n",
      "   macro avg       0.77      0.75      0.75     15000\n",
      "weighted avg       0.77      0.78      0.77     15000\n",
      "\n"
     ]
    }
   ],
   "source": [
    "tree_models= [RandomForestClassifier(), GradientBoostingClassifier()]\n",
    "\n",
    "for model in tree_models:\n",
    "    model_name= str(model)[:-2]\n",
    "    model= model\n",
    "    # fit the model\n",
    "    result= model.fit(x_train, y_train)\n",
    "    # make predictions\n",
    "    y_pred= model.predict(x_test)\n",
    "\n",
    "    # computer average score\n",
    "    avg_score= round(accuracy_score(y_test, y_pred),2)\n",
    "    print('{} Accuracy Score: {}'.format(model_name,avg_score))\n",
    "    print('\\n')\n",
    "\n",
    "    # compute classification report\n",
    "    report= classification_report(y_test, y_pred)\n",
    "    print('Classification Report for {} Model'.format(model_name))\n",
    "    print(report)"
   ]
  },
  {
   "cell_type": "markdown",
   "metadata": {},
   "source": [
    "## Oversampling the Minority Class\n",
    "\n",
    "Performance is rather poor on the Retainted Class (Active = 0). As we saw above this class occurs at about half the frequency that the Non Retained class (Active = 1) does. \n",
    "\n",
    "We will try to oversample the Active = 0 class in order to improve performance on that class.\n",
    "\n"
   ]
  },
  {
   "cell_type": "code",
   "execution_count": 31,
   "metadata": {},
   "outputs": [],
   "source": [
    "from imblearn.over_sampling import SMOTE"
   ]
  },
  {
   "cell_type": "code",
   "execution_count": 32,
   "metadata": {},
   "outputs": [
    {
     "name": "stdout",
     "output_type": "stream",
     "text": [
      "Ratios for SMOTE Data.\n",
      "(array([0, 1]), array([13163, 21837])) [21837 21837]\n",
      "\n",
      "\n",
      "Ratios for Scaled SMOTE Data.\n",
      "(array([0, 1]), array([13163, 21837])) [21837 21837]\n",
      "\n",
      "\n"
     ]
    }
   ],
   "source": [
    "sm= SMOTE(random_state=12)\n",
    "# Create a smote version of training data\n",
    "x_train_smote, y_train_smote= sm.fit_sample(x_train, y_train)\n",
    "\n",
    "# Create a smote version of the scaled training data. \n",
    "#Y_train was note scaled but for clarity we will create a new y_train variable to use with the scaled data\n",
    "x_train_scaled_smote, y_train_scaled_smote= sm.fit_sample(x_train_scaled, y_train)\n",
    "\n",
    "print('Ratios for SMOTE Data.')\n",
    "print (np.unique(y_train, return_counts=True) , np.bincount(y_train_smote))\n",
    "print('\\n')\n",
    "\n",
    "print('Ratios for Scaled SMOTE Data.')\n",
    "print (np.unique(y_train, return_counts=True) , np.bincount(y_train_smote))\n",
    "print('\\n')"
   ]
  },
  {
   "cell_type": "markdown",
   "metadata": {},
   "source": [
    "#### Logistic Regression with SMOTE"
   ]
  },
  {
   "cell_type": "code",
   "execution_count": 33,
   "metadata": {},
   "outputs": [
    {
     "name": "stdout",
     "output_type": "stream",
     "text": [
      "Logistic Regression SMOTED Accuracy Score: 0.68\n",
      "\n",
      "\n",
      "Classification Report for Logistic Regression SMOTED Model\n",
      "              precision    recall  f1-score   support\n",
      "\n",
      "           0       0.57      0.64      0.60      5641\n",
      "           1       0.77      0.71      0.74      9359\n",
      "\n",
      "    accuracy                           0.68     15000\n",
      "   macro avg       0.67      0.67      0.67     15000\n",
      "weighted avg       0.69      0.68      0.69     15000\n",
      "\n"
     ]
    }
   ],
   "source": [
    "model_name= 'Logistic Regression SMOTED'\n",
    "model= LogisticRegression()\n",
    "# fit the model\n",
    "result= model.fit(x_train_scaled_smote, y_train_scaled_smote)\n",
    "# make predictions\n",
    "y_pred= model.predict(x_test_scaled)\n",
    "\n",
    "# computer average score\n",
    "avg_score= round(accuracy_score(y_test, y_pred),2)\n",
    "print('{} Accuracy Score: {}'.format(model_name,avg_score))\n",
    "print('\\n')\n",
    "\n",
    "# compute classification report\n",
    "report= classification_report(y_test, y_pred)\n",
    "print('Classification Report for {} Model'.format(model_name))\n",
    "print(report)"
   ]
  },
  {
   "cell_type": "markdown",
   "metadata": {},
   "source": [
    "SMOTE did not help our Logistic Regression Model"
   ]
  },
  {
   "cell_type": "markdown",
   "metadata": {},
   "source": [
    "#### Support Vector Classifier with SMOTE"
   ]
  },
  {
   "cell_type": "code",
   "execution_count": 34,
   "metadata": {},
   "outputs": [
    {
     "name": "stdout",
     "output_type": "stream",
     "text": [
      "Support Vector Classifier SMOTED Accuracy Score: 0.74\n",
      "\n",
      "\n",
      "Classification Report for Support Vector Classifier SMOTED Model\n",
      "              precision    recall  f1-score   support\n",
      "\n",
      "           0       0.63      0.75      0.69      5641\n",
      "           1       0.83      0.74      0.78      9359\n",
      "\n",
      "    accuracy                           0.74     15000\n",
      "   macro avg       0.73      0.74      0.73     15000\n",
      "weighted avg       0.76      0.74      0.75     15000\n",
      "\n"
     ]
    }
   ],
   "source": [
    "model_name= 'Support Vector Classifier SMOTED'\n",
    "model= svm.SVC()\n",
    "# fit the model\n",
    "result= model.fit(x_train_scaled_smote, y_train_scaled_smote)\n",
    "# make predictions\n",
    "y_pred= model.predict(x_test_scaled)\n",
    "\n",
    "# computer average score\n",
    "avg_score= round(accuracy_score(y_test, y_pred),2)\n",
    "print('{} Accuracy Score: {}'.format(model_name,avg_score))\n",
    "print('\\n')\n",
    "\n",
    "# compute classification report\n",
    "report= classification_report(y_test, y_pred)\n",
    "print('Classification Report for {} Model'.format(model_name))\n",
    "print(report)"
   ]
  },
  {
   "cell_type": "markdown",
   "metadata": {},
   "source": [
    "#### Tree Models with SMOTE"
   ]
  },
  {
   "cell_type": "code",
   "execution_count": 35,
   "metadata": {},
   "outputs": [
    {
     "name": "stdout",
     "output_type": "stream",
     "text": [
      "RandomForestClassifierWith SMOTE Accuracy Score: 0.74\n",
      "\n",
      "\n",
      "Classification Report for RandomForestClassifierWith SMOTE Model\n",
      "              precision    recall  f1-score   support\n",
      "\n",
      "           0       0.65      0.68      0.66      5641\n",
      "           1       0.80      0.78      0.79      9359\n",
      "\n",
      "    accuracy                           0.74     15000\n",
      "   macro avg       0.72      0.73      0.72     15000\n",
      "weighted avg       0.74      0.74      0.74     15000\n",
      "\n",
      "GradientBoostingClassifierWith SMOTE Accuracy Score: 0.77\n",
      "\n",
      "\n",
      "Classification Report for GradientBoostingClassifierWith SMOTE Model\n",
      "              precision    recall  f1-score   support\n",
      "\n",
      "           0       0.69      0.71      0.70      5641\n",
      "           1       0.82      0.81      0.81      9359\n",
      "\n",
      "    accuracy                           0.77     15000\n",
      "   macro avg       0.76      0.76      0.76     15000\n",
      "weighted avg       0.77      0.77      0.77     15000\n",
      "\n"
     ]
    }
   ],
   "source": [
    "tree_models= [RandomForestClassifier(), GradientBoostingClassifier()]\n",
    "\n",
    "for model in tree_models:\n",
    "    model_name= (str(model)[:-2] + \"With SMOTE\")\n",
    "    model= model\n",
    "    # fit the model\n",
    "    result= model.fit(x_train_smote, y_train_smote)\n",
    "    # make predictions\n",
    "    y_pred= model.predict(x_test)\n",
    "\n",
    "    # computer average score\n",
    "    avg_score= round(accuracy_score(y_test, y_pred),2)\n",
    "    print('{} Accuracy Score: {}'.format(model_name,avg_score))\n",
    "    print('\\n')\n",
    "\n",
    "    # compute classification report\n",
    "    report= classification_report(y_test, y_pred)\n",
    "    print('Classification Report for {} Model'.format(model_name))\n",
    "    print(report)"
   ]
  },
  {
   "cell_type": "markdown",
   "metadata": {},
   "source": [
    "SMOTE did significantly improve the overall accuracy of our tree models but it did give us some performance improvements on the Retained Class (Active= 0)"
   ]
  },
  {
   "cell_type": "markdown",
   "metadata": {},
   "source": [
    "## Hyper Parameter Tuning\n",
    "\n",
    "For this section we will focus on just two models. One Linear and One Tree Model\n",
    "\n",
    "Linear Model used will be Support Vector Classifier as that gave us the best performance above. \n",
    "\n",
    "Tree Model used will be Gradient Boosting Classifier as that gave us the best performance above. "
   ]
  },
  {
   "cell_type": "markdown",
   "metadata": {},
   "source": [
    "#### Support Vector Classifier Hyperparemeter Tuning"
   ]
  },
  {
   "cell_type": "markdown",
   "metadata": {},
   "source": [
    "# STOP: Don't Rerun Gridsearch. Too much for computer to handle."
   ]
  },
  {
   "cell_type": "code",
   "execution_count": 47,
   "metadata": {},
   "outputs": [
    {
     "name": "stdout",
     "output_type": "stream",
     "text": [
      "Fitting 5 folds for each of 8 candidates, totalling 40 fits\n"
     ]
    },
    {
     "name": "stderr",
     "output_type": "stream",
     "text": [
      "[Parallel(n_jobs=1)]: Using backend SequentialBackend with 1 concurrent workers.\n",
      "[Parallel(n_jobs=1)]: Done  40 out of  40 | elapsed: 27.9min finished\n"
     ]
    },
    {
     "name": "stdout",
     "output_type": "stream",
     "text": [
      "{'C': 100, 'gamma': 'scale'}\n",
      "SVC(C=100)\n"
     ]
    }
   ],
   "source": [
    "model= svm.SVC()\n",
    "\n",
    "param_grid= {\"C\": [0.1, 1, 10, 100], 'gamma': ['auto', 'scale']}\n",
    "\n",
    "grid = GridSearchCV(model, param_grid, refit = True, verbose = 1) \n",
    "  \n",
    "# fitting the model for grid search \n",
    "grid.fit(x_train_scaled, y_train)\n",
    "\n",
    "# print best parameter after tuning \n",
    "print(grid.best_params_) \n",
    "  \n",
    "# print how our model looks after hyper-parameter tuning \n",
    "print(grid.best_estimator_)"
   ]
  },
  {
   "cell_type": "code",
   "execution_count": 48,
   "metadata": {},
   "outputs": [
    {
     "name": "stdout",
     "output_type": "stream",
     "text": [
      "Tuned Support Vector Classfier Accuracy Score: 0.76\n",
      "\n",
      "\n",
      "Classification Report for Tuned Support Vector Classfier Model\n",
      "              precision    recall  f1-score   support\n",
      "\n",
      "           0       0.71      0.61      0.66      5641\n",
      "           1       0.78      0.85      0.82      9359\n",
      "\n",
      "    accuracy                           0.76     15000\n",
      "   macro avg       0.75      0.73      0.74     15000\n",
      "weighted avg       0.76      0.76      0.76     15000\n",
      "\n"
     ]
    }
   ],
   "source": [
    "model_name= 'Tuned Support Vector Classfier'\n",
    "model= svm.SVC(C=100, gamma='scale')\n",
    "\n",
    "# fit the model\n",
    "result= model.fit(x_train_scaled, y_train)\n",
    "# make predictions\n",
    "y_pred= model.predict(x_test_scaled)\n",
    "\n",
    "# computer average score\n",
    "avg_score= round(accuracy_score(y_test, y_pred),2)\n",
    "print('{} Accuracy Score: {}'.format(model_name,avg_score))\n",
    "print('\\n')\n",
    "\n",
    "# compute classification report\n",
    "report= classification_report(y_test, y_pred)\n",
    "print('Classification Report for {} Model'.format(model_name))\n",
    "print(report)"
   ]
  },
  {
   "cell_type": "code",
   "execution_count": null,
   "metadata": {},
   "outputs": [],
   "source": []
  },
  {
   "cell_type": "markdown",
   "metadata": {},
   "source": [
    "# STOP: Don't Rerun Gridsearch. Too much for computer"
   ]
  },
  {
   "cell_type": "code",
   "execution_count": 42,
   "metadata": {},
   "outputs": [
    {
     "name": "stdout",
     "output_type": "stream",
     "text": [
      "Fitting 5 folds for each of 18 candidates, totalling 90 fits\n",
      "[CV] loss=deviance, max_depth=3, n_estimators=50 .....................\n"
     ]
    },
    {
     "name": "stderr",
     "output_type": "stream",
     "text": [
      "[Parallel(n_jobs=1)]: Using backend SequentialBackend with 1 concurrent workers.\n"
     ]
    },
    {
     "name": "stdout",
     "output_type": "stream",
     "text": [
      "[CV] ...... loss=deviance, max_depth=3, n_estimators=50, total=   1.1s\n",
      "[CV] loss=deviance, max_depth=3, n_estimators=50 .....................\n"
     ]
    },
    {
     "name": "stderr",
     "output_type": "stream",
     "text": [
      "[Parallel(n_jobs=1)]: Done   1 out of   1 | elapsed:    1.1s remaining:    0.0s\n"
     ]
    },
    {
     "name": "stdout",
     "output_type": "stream",
     "text": [
      "[CV] ...... loss=deviance, max_depth=3, n_estimators=50, total=   1.1s\n",
      "[CV] loss=deviance, max_depth=3, n_estimators=50 .....................\n",
      "[CV] ...... loss=deviance, max_depth=3, n_estimators=50, total=   1.0s\n",
      "[CV] loss=deviance, max_depth=3, n_estimators=50 .....................\n",
      "[CV] ...... loss=deviance, max_depth=3, n_estimators=50, total=   1.1s\n",
      "[CV] loss=deviance, max_depth=3, n_estimators=50 .....................\n",
      "[CV] ...... loss=deviance, max_depth=3, n_estimators=50, total=   1.0s\n",
      "[CV] loss=deviance, max_depth=3, n_estimators=100 ....................\n",
      "[CV] ..... loss=deviance, max_depth=3, n_estimators=100, total=   2.1s\n",
      "[CV] loss=deviance, max_depth=3, n_estimators=100 ....................\n",
      "[CV] ..... loss=deviance, max_depth=3, n_estimators=100, total=   2.1s\n",
      "[CV] loss=deviance, max_depth=3, n_estimators=100 ....................\n",
      "[CV] ..... loss=deviance, max_depth=3, n_estimators=100, total=   2.2s\n",
      "[CV] loss=deviance, max_depth=3, n_estimators=100 ....................\n",
      "[CV] ..... loss=deviance, max_depth=3, n_estimators=100, total=   2.1s\n",
      "[CV] loss=deviance, max_depth=3, n_estimators=100 ....................\n",
      "[CV] ..... loss=deviance, max_depth=3, n_estimators=100, total=   2.1s\n",
      "[CV] loss=deviance, max_depth=3, n_estimators=300 ....................\n",
      "[CV] ..... loss=deviance, max_depth=3, n_estimators=300, total=   6.1s\n",
      "[CV] loss=deviance, max_depth=3, n_estimators=300 ....................\n",
      "[CV] ..... loss=deviance, max_depth=3, n_estimators=300, total=   6.2s\n",
      "[CV] loss=deviance, max_depth=3, n_estimators=300 ....................\n",
      "[CV] ..... loss=deviance, max_depth=3, n_estimators=300, total=   6.2s\n",
      "[CV] loss=deviance, max_depth=3, n_estimators=300 ....................\n",
      "[CV] ..... loss=deviance, max_depth=3, n_estimators=300, total=   6.2s\n",
      "[CV] loss=deviance, max_depth=3, n_estimators=300 ....................\n",
      "[CV] ..... loss=deviance, max_depth=3, n_estimators=300, total=   6.2s\n",
      "[CV] loss=deviance, max_depth=5, n_estimators=50 .....................\n",
      "[CV] ...... loss=deviance, max_depth=5, n_estimators=50, total=   1.6s\n",
      "[CV] loss=deviance, max_depth=5, n_estimators=50 .....................\n",
      "[CV] ...... loss=deviance, max_depth=5, n_estimators=50, total=   1.7s\n",
      "[CV] loss=deviance, max_depth=5, n_estimators=50 .....................\n",
      "[CV] ...... loss=deviance, max_depth=5, n_estimators=50, total=   1.7s\n",
      "[CV] loss=deviance, max_depth=5, n_estimators=50 .....................\n",
      "[CV] ...... loss=deviance, max_depth=5, n_estimators=50, total=   1.7s\n",
      "[CV] loss=deviance, max_depth=5, n_estimators=50 .....................\n",
      "[CV] ...... loss=deviance, max_depth=5, n_estimators=50, total=   2.2s\n",
      "[CV] loss=deviance, max_depth=5, n_estimators=100 ....................\n",
      "[CV] ..... loss=deviance, max_depth=5, n_estimators=100, total=   4.2s\n",
      "[CV] loss=deviance, max_depth=5, n_estimators=100 ....................\n",
      "[CV] ..... loss=deviance, max_depth=5, n_estimators=100, total=   3.3s\n",
      "[CV] loss=deviance, max_depth=5, n_estimators=100 ....................\n",
      "[CV] ..... loss=deviance, max_depth=5, n_estimators=100, total=   3.6s\n",
      "[CV] loss=deviance, max_depth=5, n_estimators=100 ....................\n",
      "[CV] ..... loss=deviance, max_depth=5, n_estimators=100, total=   3.3s\n",
      "[CV] loss=deviance, max_depth=5, n_estimators=100 ....................\n",
      "[CV] ..... loss=deviance, max_depth=5, n_estimators=100, total=   3.3s\n",
      "[CV] loss=deviance, max_depth=5, n_estimators=300 ....................\n",
      "[CV] ..... loss=deviance, max_depth=5, n_estimators=300, total=  11.0s\n",
      "[CV] loss=deviance, max_depth=5, n_estimators=300 ....................\n",
      "[CV] ..... loss=deviance, max_depth=5, n_estimators=300, total=  10.5s\n",
      "[CV] loss=deviance, max_depth=5, n_estimators=300 ....................\n",
      "[CV] ..... loss=deviance, max_depth=5, n_estimators=300, total=  11.7s\n",
      "[CV] loss=deviance, max_depth=5, n_estimators=300 ....................\n",
      "[CV] ..... loss=deviance, max_depth=5, n_estimators=300, total=   9.8s\n",
      "[CV] loss=deviance, max_depth=5, n_estimators=300 ....................\n",
      "[CV] ..... loss=deviance, max_depth=5, n_estimators=300, total=   9.8s\n",
      "[CV] loss=deviance, max_depth=8, n_estimators=50 .....................\n",
      "[CV] ...... loss=deviance, max_depth=8, n_estimators=50, total=   2.9s\n",
      "[CV] loss=deviance, max_depth=8, n_estimators=50 .....................\n",
      "[CV] ...... loss=deviance, max_depth=8, n_estimators=50, total=   2.9s\n",
      "[CV] loss=deviance, max_depth=8, n_estimators=50 .....................\n",
      "[CV] ...... loss=deviance, max_depth=8, n_estimators=50, total=   2.9s\n",
      "[CV] loss=deviance, max_depth=8, n_estimators=50 .....................\n",
      "[CV] ...... loss=deviance, max_depth=8, n_estimators=50, total=   2.8s\n",
      "[CV] loss=deviance, max_depth=8, n_estimators=50 .....................\n",
      "[CV] ...... loss=deviance, max_depth=8, n_estimators=50, total=   2.8s\n",
      "[CV] loss=deviance, max_depth=8, n_estimators=100 ....................\n",
      "[CV] ..... loss=deviance, max_depth=8, n_estimators=100, total=   6.5s\n",
      "[CV] loss=deviance, max_depth=8, n_estimators=100 ....................\n",
      "[CV] ..... loss=deviance, max_depth=8, n_estimators=100, total=   8.9s\n",
      "[CV] loss=deviance, max_depth=8, n_estimators=100 ....................\n",
      "[CV] ..... loss=deviance, max_depth=8, n_estimators=100, total=   6.4s\n",
      "[CV] loss=deviance, max_depth=8, n_estimators=100 ....................\n",
      "[CV] ..... loss=deviance, max_depth=8, n_estimators=100, total=   7.3s\n",
      "[CV] loss=deviance, max_depth=8, n_estimators=100 ....................\n",
      "[CV] ..... loss=deviance, max_depth=8, n_estimators=100, total=   5.8s\n",
      "[CV] loss=deviance, max_depth=8, n_estimators=300 ....................\n",
      "[CV] ..... loss=deviance, max_depth=8, n_estimators=300, total=  18.7s\n",
      "[CV] loss=deviance, max_depth=8, n_estimators=300 ....................\n",
      "[CV] ..... loss=deviance, max_depth=8, n_estimators=300, total=  17.8s\n",
      "[CV] loss=deviance, max_depth=8, n_estimators=300 ....................\n",
      "[CV] ..... loss=deviance, max_depth=8, n_estimators=300, total=  18.0s\n",
      "[CV] loss=deviance, max_depth=8, n_estimators=300 ....................\n",
      "[CV] ..... loss=deviance, max_depth=8, n_estimators=300, total=  16.3s\n",
      "[CV] loss=deviance, max_depth=8, n_estimators=300 ....................\n",
      "[CV] ..... loss=deviance, max_depth=8, n_estimators=300, total=  17.0s\n",
      "[CV] loss=exponential, max_depth=3, n_estimators=50 ..................\n",
      "[CV] ... loss=exponential, max_depth=3, n_estimators=50, total=   1.1s\n",
      "[CV] loss=exponential, max_depth=3, n_estimators=50 ..................\n",
      "[CV] ... loss=exponential, max_depth=3, n_estimators=50, total=   1.0s\n",
      "[CV] loss=exponential, max_depth=3, n_estimators=50 ..................\n",
      "[CV] ... loss=exponential, max_depth=3, n_estimators=50, total=   1.0s\n",
      "[CV] loss=exponential, max_depth=3, n_estimators=50 ..................\n",
      "[CV] ... loss=exponential, max_depth=3, n_estimators=50, total=   1.0s\n",
      "[CV] loss=exponential, max_depth=3, n_estimators=50 ..................\n",
      "[CV] ... loss=exponential, max_depth=3, n_estimators=50, total=   1.0s\n",
      "[CV] loss=exponential, max_depth=3, n_estimators=100 .................\n",
      "[CV] .. loss=exponential, max_depth=3, n_estimators=100, total=   2.1s\n",
      "[CV] loss=exponential, max_depth=3, n_estimators=100 .................\n",
      "[CV] .. loss=exponential, max_depth=3, n_estimators=100, total=   2.0s\n",
      "[CV] loss=exponential, max_depth=3, n_estimators=100 .................\n",
      "[CV] .. loss=exponential, max_depth=3, n_estimators=100, total=   2.0s\n",
      "[CV] loss=exponential, max_depth=3, n_estimators=100 .................\n",
      "[CV] .. loss=exponential, max_depth=3, n_estimators=100, total=   2.1s\n",
      "[CV] loss=exponential, max_depth=3, n_estimators=100 .................\n",
      "[CV] .. loss=exponential, max_depth=3, n_estimators=100, total=   2.0s\n",
      "[CV] loss=exponential, max_depth=3, n_estimators=300 .................\n",
      "[CV] .. loss=exponential, max_depth=3, n_estimators=300, total=   6.0s\n",
      "[CV] loss=exponential, max_depth=3, n_estimators=300 .................\n",
      "[CV] .. loss=exponential, max_depth=3, n_estimators=300, total=   6.0s\n",
      "[CV] loss=exponential, max_depth=3, n_estimators=300 .................\n",
      "[CV] .. loss=exponential, max_depth=3, n_estimators=300, total=   6.0s\n",
      "[CV] loss=exponential, max_depth=3, n_estimators=300 .................\n",
      "[CV] .. loss=exponential, max_depth=3, n_estimators=300, total=   6.0s\n",
      "[CV] loss=exponential, max_depth=3, n_estimators=300 .................\n"
     ]
    },
    {
     "name": "stdout",
     "output_type": "stream",
     "text": [
      "[CV] .. loss=exponential, max_depth=3, n_estimators=300, total=   6.0s\n",
      "[CV] loss=exponential, max_depth=5, n_estimators=50 ..................\n",
      "[CV] ... loss=exponential, max_depth=5, n_estimators=50, total=   1.6s\n",
      "[CV] loss=exponential, max_depth=5, n_estimators=50 ..................\n",
      "[CV] ... loss=exponential, max_depth=5, n_estimators=50, total=   1.6s\n",
      "[CV] loss=exponential, max_depth=5, n_estimators=50 ..................\n",
      "[CV] ... loss=exponential, max_depth=5, n_estimators=50, total=   1.6s\n",
      "[CV] loss=exponential, max_depth=5, n_estimators=50 ..................\n",
      "[CV] ... loss=exponential, max_depth=5, n_estimators=50, total=   1.6s\n",
      "[CV] loss=exponential, max_depth=5, n_estimators=50 ..................\n",
      "[CV] ... loss=exponential, max_depth=5, n_estimators=50, total=   1.6s\n",
      "[CV] loss=exponential, max_depth=5, n_estimators=100 .................\n",
      "[CV] .. loss=exponential, max_depth=5, n_estimators=100, total=   3.2s\n",
      "[CV] loss=exponential, max_depth=5, n_estimators=100 .................\n",
      "[CV] .. loss=exponential, max_depth=5, n_estimators=100, total=   3.2s\n",
      "[CV] loss=exponential, max_depth=5, n_estimators=100 .................\n",
      "[CV] .. loss=exponential, max_depth=5, n_estimators=100, total=   3.2s\n",
      "[CV] loss=exponential, max_depth=5, n_estimators=100 .................\n",
      "[CV] .. loss=exponential, max_depth=5, n_estimators=100, total=   3.2s\n",
      "[CV] loss=exponential, max_depth=5, n_estimators=100 .................\n",
      "[CV] .. loss=exponential, max_depth=5, n_estimators=100, total=   3.2s\n",
      "[CV] loss=exponential, max_depth=5, n_estimators=300 .................\n",
      "[CV] .. loss=exponential, max_depth=5, n_estimators=300, total=   9.6s\n",
      "[CV] loss=exponential, max_depth=5, n_estimators=300 .................\n",
      "[CV] .. loss=exponential, max_depth=5, n_estimators=300, total=   9.6s\n",
      "[CV] loss=exponential, max_depth=5, n_estimators=300 .................\n",
      "[CV] .. loss=exponential, max_depth=5, n_estimators=300, total=   9.6s\n",
      "[CV] loss=exponential, max_depth=5, n_estimators=300 .................\n",
      "[CV] .. loss=exponential, max_depth=5, n_estimators=300, total=   9.7s\n",
      "[CV] loss=exponential, max_depth=5, n_estimators=300 .................\n",
      "[CV] .. loss=exponential, max_depth=5, n_estimators=300, total=   9.8s\n",
      "[CV] loss=exponential, max_depth=8, n_estimators=50 ..................\n",
      "[CV] ... loss=exponential, max_depth=8, n_estimators=50, total=   2.8s\n",
      "[CV] loss=exponential, max_depth=8, n_estimators=50 ..................\n",
      "[CV] ... loss=exponential, max_depth=8, n_estimators=50, total=   2.8s\n",
      "[CV] loss=exponential, max_depth=8, n_estimators=50 ..................\n",
      "[CV] ... loss=exponential, max_depth=8, n_estimators=50, total=   2.8s\n",
      "[CV] loss=exponential, max_depth=8, n_estimators=50 ..................\n",
      "[CV] ... loss=exponential, max_depth=8, n_estimators=50, total=   2.8s\n",
      "[CV] loss=exponential, max_depth=8, n_estimators=50 ..................\n",
      "[CV] ... loss=exponential, max_depth=8, n_estimators=50, total=   2.8s\n",
      "[CV] loss=exponential, max_depth=8, n_estimators=100 .................\n",
      "[CV] .. loss=exponential, max_depth=8, n_estimators=100, total=   5.5s\n",
      "[CV] loss=exponential, max_depth=8, n_estimators=100 .................\n",
      "[CV] .. loss=exponential, max_depth=8, n_estimators=100, total=   5.5s\n",
      "[CV] loss=exponential, max_depth=8, n_estimators=100 .................\n",
      "[CV] .. loss=exponential, max_depth=8, n_estimators=100, total=   5.5s\n",
      "[CV] loss=exponential, max_depth=8, n_estimators=100 .................\n",
      "[CV] .. loss=exponential, max_depth=8, n_estimators=100, total=   5.5s\n",
      "[CV] loss=exponential, max_depth=8, n_estimators=100 .................\n",
      "[CV] .. loss=exponential, max_depth=8, n_estimators=100, total=   5.5s\n",
      "[CV] loss=exponential, max_depth=8, n_estimators=300 .................\n",
      "[CV] .. loss=exponential, max_depth=8, n_estimators=300, total=  16.5s\n",
      "[CV] loss=exponential, max_depth=8, n_estimators=300 .................\n",
      "[CV] .. loss=exponential, max_depth=8, n_estimators=300, total=  16.5s\n",
      "[CV] loss=exponential, max_depth=8, n_estimators=300 .................\n",
      "[CV] .. loss=exponential, max_depth=8, n_estimators=300, total=  16.5s\n",
      "[CV] loss=exponential, max_depth=8, n_estimators=300 .................\n",
      "[CV] .. loss=exponential, max_depth=8, n_estimators=300, total=  17.7s\n",
      "[CV] loss=exponential, max_depth=8, n_estimators=300 .................\n",
      "[CV] .. loss=exponential, max_depth=8, n_estimators=300, total=  17.9s\n"
     ]
    },
    {
     "name": "stderr",
     "output_type": "stream",
     "text": [
      "[Parallel(n_jobs=1)]: Done  90 out of  90 | elapsed:  8.5min finished\n"
     ]
    },
    {
     "name": "stdout",
     "output_type": "stream",
     "text": [
      "{'loss': 'exponential', 'max_depth': 5, 'n_estimators': 300}\n",
      "GradientBoostingClassifier(loss='exponential', max_depth=5, n_estimators=300)\n"
     ]
    }
   ],
   "source": [
    "from sklearn.model_selection import GridSearchCV\n",
    "from sklearn.model_selection import RandomizedSearchCV\n",
    "model= GradientBoostingClassifier()\n",
    "\n",
    "param_grid= {'loss': ['deviance', 'exponential'], 'n_estimators': [50,100,300], 'max_depth': [3, 5, 8]}\n",
    "\n",
    "grid = GridSearchCV(model, param_grid, refit = True, verbose = 2) \n",
    "  \n",
    "# fitting the model for grid search \n",
    "grid.fit(x_train, y_train)\n",
    "\n",
    "# print best parameter after tuning \n",
    "print(grid.best_params_) \n",
    "  \n",
    "# print how our model looks after hyper-parameter tuning \n",
    "print(grid.best_estimator_)"
   ]
  },
  {
   "cell_type": "markdown",
   "metadata": {},
   "source": [
    "# Final Model"
   ]
  },
  {
   "cell_type": "code",
   "execution_count": 44,
   "metadata": {},
   "outputs": [
    {
     "name": "stdout",
     "output_type": "stream",
     "text": [
      "Tuned Gradient Boosting Classfier Accuracy Score: 0.78\n",
      "\n",
      "\n",
      "Classification Report for Tuned Gradient Boosting Classfier Model\n",
      "              precision    recall  f1-score   support\n",
      "\n",
      "           0       0.73      0.65      0.69      5641\n",
      "           1       0.80      0.85      0.83      9359\n",
      "\n",
      "    accuracy                           0.78     15000\n",
      "   macro avg       0.76      0.75      0.76     15000\n",
      "weighted avg       0.77      0.78      0.77     15000\n",
      "\n"
     ]
    }
   ],
   "source": [
    "model_name= 'Tuned Gradient Boosting Classfier'\n",
    "model= GradientBoostingClassifier(loss='exponential', max_depth=5, n_estimators=300)\n",
    "\n",
    "# fit the model\n",
    "result= model.fit(x_train, y_train)\n",
    "# make predictions\n",
    "y_pred= model.predict(x_test)\n",
    "\n",
    "# computer average score\n",
    "avg_score= round(accuracy_score(y_test, y_pred),2)\n",
    "print('{} Accuracy Score: {}'.format(model_name,avg_score))\n",
    "print('\\n')\n",
    "\n",
    "# compute classification report\n",
    "report= classification_report(y_test, y_pred)\n",
    "print('Classification Report for {} Model'.format(model_name))\n",
    "print(report)\n"
   ]
  },
  {
   "cell_type": "markdown",
   "metadata": {},
   "source": [
    "## Modeling Summary\n",
    "\n",
    "In the end the best model proved to be a Gradient Boosting Classifier. \n",
    "\n",
    "With the GBC we were able to get testing accuracy up to 0.78 meaning that the model can accurately classify 78% of new cases. In other words the model can predict with 78% accuracy wether or not a driver will still be driving for the company in 6 months. \n",
    "\n",
    "The model performs with higher accuracy (F1 Score) on the non-retained class (Actvie = 1) than it does on the retained class (Active = 0). The difference is 83% vs 69%"
   ]
  },
  {
   "cell_type": "markdown",
   "metadata": {},
   "source": [
    "## Understanding the Factors Contributing to Churn"
   ]
  },
  {
   "cell_type": "code",
   "execution_count": 49,
   "metadata": {},
   "outputs": [
    {
     "data": {
      "image/png": "[encoded data removed]",
      "text/plain": [
       "<Figure size 432x288 with 1 Axes>"
      ]
     },
     "metadata": {
      "needs_background": "light"
     },
     "output_type": "display_data"
    }
   ],
   "source": [
    "model= LogisticRegression()\n",
    "# fit the model\n",
    "result= model.fit(x_train_scaled, y_train)\n",
    "\n",
    "# Visualizing Feature Importance from the Logistic Regression\n",
    "# create empty df\n",
    "logit_df= pd.DataFrame()\n",
    "\n",
    "coefficients= result.coef_.tolist()[0]\n",
    "features= list(x_train.columns)\n",
    "\n",
    "\n",
    "# Add features and their importance to the dataframe\n",
    "logit_df['Feature']= features\n",
    "logit_df['Coefficient']= coefficients\n",
    "\n",
    "# Sort the dataframe by coefficient value\n",
    "logit_df= logit_df.sort_values(by='Coefficient', ascending=False )\n",
    "\n",
    "# plot the dataframe \n",
    "sns.barplot(x='Coefficient', y= 'Feature', data=logit_df, color='b')\n",
    "plt.title('Factors Contributing to Retention')\n",
    "plt.xlabel('Logistic Regression Coefficient')\n",
    "plt.axvline(x=0, color='black')\n",
    "sns.despine()\n"
   ]
  },
  {
   "cell_type": "markdown",
   "metadata": {},
   "source": [
    "### Interpretation\n",
    "\n",
    "While logistic regress was not the best classifer it does have the best intreptability so we will use it to identify factors contributing to drvier Churn. \n",
    "\n",
    "Factors making a driver more likely to Churn: Living in Astapor, Not being and ultimate black user, and having a high average trip distance. \n",
    "\n",
    "Factors making a driver less likely to Churn: A larger number of trips completed in their first 30 days, living in King's landing and being an Ultimate Black User"
   ]
  },
  {
   "cell_type": "code",
   "execution_count": null,
   "metadata": {},
   "outputs": [],
   "source": []
  }
 ],
 "metadata": {
  "kernelspec": {
   "display_name": "Python 3",
   "language": "python",
   "name": "python3"
  },
  "language_info": {
   "codemirror_mode": {
    "name": "ipython",
    "version": 3
   },
   "file_extension": ".py",
   "mimetype": "text/x-python",
   "name": "python",
   "nbconvert_exporter": "python",
   "pygments_lexer": "ipython3",
   "version": "3.8.3"
  }
 },
 "nbformat": 4,
 "nbformat_minor": 4
}
